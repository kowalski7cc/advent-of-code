{
 "cells": [
  {
   "cell_type": "code",
   "execution_count": null,
   "id": "d20b0132",
   "metadata": {},
   "outputs": [],
   "source": [
    "with open(\"sample-1.txt\") as f:\n",
    "\traw = f.read().splitlines()\n",
    "        "
   ]
  },
  {
   "cell_type": "code",
   "execution_count": null,
   "id": "17888a10",
   "metadata": {},
   "outputs": [],
   "source": [
    "# map list of lines to a matrix of characters\n",
    "matrix = [list(line) for line in raw]\n",
    "\n",
    "#import charachters\n",
    "from string import ascii_lowercase\n",
    "from typing import Union\n",
    "\n",
    "# dict with letter key and int as value\n",
    "letter_dict: dict[str, Union[int, str]] = {letter: i for i, letter in enumerate(ascii_lowercase)}\n",
    "\n",
    "\n",
    "#replace matrix letters with numbers from letter_dict only if present\n",
    "matrix = [[letter_dict.get(letter, letter) for letter in row] for row in matrix]"
   ]
  },
  {
   "cell_type": "code",
   "execution_count": null,
   "id": "58efde03",
   "metadata": {},
   "outputs": [],
   "source": [
    "matrix"
   ]
  }
 ],
 "metadata": {
  "kernelspec": {
   "display_name": ".venv",
   "language": "python",
   "name": "python3"
  },
  "language_info": {
   "codemirror_mode": {
    "name": "ipython",
    "version": 3
   },
   "file_extension": ".py",
   "mimetype": "text/x-python",
   "name": "python",
   "nbconvert_exporter": "python",
   "pygments_lexer": "ipython3",
   "version": "3.9.2 (default, Feb 28 2021, 17:03:44) \n[GCC 10.2.1 20210110]"
  },
  "vscode": {
   "interpreter": {
    "hash": "a5bffa46d10590097fc73735e3b0b0657e564857ca0efb29895753a4391e94ee"
   }
  }
 },
 "nbformat": 4,
 "nbformat_minor": 5
}
