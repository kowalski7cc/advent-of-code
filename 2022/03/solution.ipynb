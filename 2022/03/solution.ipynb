{
 "cells": [
  {
   "cell_type": "code",
   "execution_count": null,
   "metadata": {},
   "outputs": [],
   "source": [
    "import string\n",
    "lower = string.ascii_lowercase\n",
    "upper = string.ascii_uppercase"
   ]
  },
  {
   "cell_type": "code",
   "execution_count": null,
   "metadata": {},
   "outputs": [],
   "source": [
    "prios = {**{b:a+1 for a, b in enumerate(lower)}, **{b:a+27 for a, b in enumerate(upper)}}"
   ]
  },
  {
   "cell_type": "code",
   "execution_count": null,
   "metadata": {},
   "outputs": [],
   "source": [
    "with open(\"input.txt\") as f:\n",
    "    data =[(i[:len(i)//2],i[len(i)//2:]) for i in  f.read().splitlines()]"
   ]
  },
  {
   "cell_type": "code",
   "execution_count": null,
   "metadata": {},
   "outputs": [],
   "source": [
    "priority = 0\n",
    "for pack in data:\n",
    "    for letter in pack[0]:\n",
    "        if letter in pack[1]:\n",
    "            priority += prios[letter]\n",
    "            duplicates.add(letter)\n",
    "            break"
   ]
  },
  {
   "cell_type": "code",
   "execution_count": null,
   "metadata": {},
   "outputs": [],
   "source": [
    "print(f\"The priority is {priority}\")"
   ]
  },
  {
   "cell_type": "code",
   "execution_count": null,
   "metadata": {},
   "outputs": [],
   "source": [
    "group_priority = 0\n",
    "for i in range(len(data)//3):\n",
    "    group = data[0+i*3:3+i*3]\n",
    "    for l in group[0][0]+group[0][1]:\n",
    "        if l in group[1][0]+group[1][1]:\n",
    "            if l in group[2][0]+group[2][1]:\n",
    "                group_priority += prios[l]\n",
    "                break\n",
    "\n"
   ]
  },
  {
   "cell_type": "code",
   "execution_count": null,
   "metadata": {},
   "outputs": [],
   "source": [
    "print(group_priority)\n"
   ]
  }
 ],
 "metadata": {
  "kernelspec": {
   "display_name": "Python 3.9.2 ('.venv': venv)",
   "language": "python",
   "name": "python3"
  },
  "language_info": {
   "codemirror_mode": {
    "name": "ipython",
    "version": 3
   },
   "file_extension": ".py",
   "mimetype": "text/x-python",
   "name": "python",
   "nbconvert_exporter": "python",
   "pygments_lexer": "ipython3",
   "version": "3.9.2"
  },
  "vscode": {
   "interpreter": {
    "hash": "a5bffa46d10590097fc73735e3b0b0657e564857ca0efb29895753a4391e94ee"
   }
  }
 },
 "nbformat": 4,
 "nbformat_minor": 2
}
