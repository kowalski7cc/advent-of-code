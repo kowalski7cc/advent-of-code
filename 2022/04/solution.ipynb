{
 "cells": [
  {
   "cell_type": "code",
   "execution_count": null,
   "metadata": {},
   "outputs": [],
   "source": [
    "with open(\"input.txt\") as f:\n",
    "    assignments = [\n",
    "        [\n",
    "            (lambda x: set(range(int(x[0]), int(x[1]) + 1)))(j.split(\"-\"))\n",
    "            for j in i.split(\",\")\n",
    "        ]\n",
    "        for i in f.read().splitlines()\n",
    "    ]"
   ]
  },
  {
   "cell_type": "code",
   "execution_count": null,
   "metadata": {},
   "outputs": [],
   "source": [
    "pairs = 0\n",
    "for group in assignments:\n",
    "    g0, g1 = group[0], group[1]\n",
    "    if len(g0) > len(g1):\n",
    "        g0, g1 = g1, g0\n",
    "    if g0 <= g1:\n",
    "        pairs += 1\n",
    "print(pairs)\n"
   ]
  },
  {
   "cell_type": "code",
   "execution_count": null,
   "metadata": {},
   "outputs": [],
   "source": [
    "pairs = 0\n",
    "for group in assignments:\n",
    "    g0, g1 = group[0], group[1]\n",
    "    if len(g0) > len(g1):\n",
    "        g0, g1 = g1, g0\n",
    "    if bool(g0.intersection(g1)):\n",
    "        pairs += 1\n",
    "print(pairs)\n"
   ]
  }
 ],
 "metadata": {
  "kernelspec": {
   "display_name": "Python 3.9.2 ('venv')",
   "language": "python",
   "name": "python3"
  },
  "language_info": {
   "codemirror_mode": {
    "name": "ipython",
    "version": 3
   },
   "file_extension": ".py",
   "mimetype": "text/x-python",
   "name": "python",
   "nbconvert_exporter": "python",
   "pygments_lexer": "ipython3",
   "version": "3.9.2"
  },
  "vscode": {
   "interpreter": {
    "hash": "e4e69621809742230a1e704ec9b4dd61c1e50993952deca0112461f485063925"
   }
  }
 },
 "nbformat": 4,
 "nbformat_minor": 2
}
