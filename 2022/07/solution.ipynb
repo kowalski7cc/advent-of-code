{
 "cells": [
  {
   "cell_type": "code",
   "execution_count": null,
   "metadata": {},
   "outputs": [],
   "source": [
    "with open(\"input.txt\") as f:\n",
    "    raw = f.read().splitlines()\n"
   ]
  },
  {
   "cell_type": "code",
   "execution_count": null,
   "metadata": {},
   "outputs": [],
   "source": [
    "import re\n",
    "\n",
    "regex = re.compile(\"(?:(\\$) )?(\\w+) *(.+)?\")\n"
   ]
  },
  {
   "cell_type": "code",
   "execution_count": null,
   "metadata": {},
   "outputs": [],
   "source": [
    "from dataclasses import dataclass, field\n",
    "from enum import Enum\n",
    "\n",
    "\n",
    "class FileType(Enum):\n",
    "    REGULAR = \"file\"\n",
    "    DIRECTORY = \"dir\"\n",
    "\n",
    "\n",
    "@dataclass\n",
    "class Node:\n",
    "    name: str\n",
    "    type: FileType\n",
    "    size: int = 0\n",
    "    child: list = field(default_factory=list)\n",
    "\n",
    "    def append(self, child: FileType) -> None:\n",
    "        if self.type is not FileType.DIRECTORY:\n",
    "            raise TypeError(\"Parent is not a directory\")\n",
    "        self.child.append(child)\n",
    "\n",
    "    def __json__(self):\n",
    "        return self.__dict__\n"
   ]
  },
  {
   "cell_type": "code",
   "execution_count": null,
   "metadata": {},
   "outputs": [],
   "source": [
    "fs = None\n",
    "stack: list[Node] = []\n",
    "\n",
    "for line in raw:\n",
    "    a, b, c = regex.match(line).groups()\n",
    "    if a == \"$\":\n",
    "        if b == \"cd\":\n",
    "            if c == \"/\":\n",
    "                fs = Node(\"/\", FileType.DIRECTORY)\n",
    "                stack.append(fs)\n",
    "                continue\n",
    "            if c == \"..\":\n",
    "                stack.pop()\n",
    "                continue\n",
    "            else:\n",
    "                n = Node(c, FileType.DIRECTORY)\n",
    "                stack[-1].append(n)\n",
    "                stack.append(n)\n",
    "        if b == \"ls\":\n",
    "            continue\n",
    "    else:\n",
    "        if b == \"dir\":\n",
    "            continue\n",
    "        n = Node(c, FileType.REGULAR, int(b))\n",
    "        stack[-1].append(n)"
   ]
  },
  {
   "cell_type": "code",
   "execution_count": null,
   "metadata": {},
   "outputs": [],
   "source": [
    "print(fs)"
   ]
  },
  {
   "cell_type": "code",
   "execution_count": null,
   "metadata": {},
   "outputs": [],
   "source": [
    "from functools import reduce\n",
    "\n",
    "\n",
    "def update_size(fs: Node) -> None:\n",
    "    folders = list(filter(lambda f: f.type == FileType.DIRECTORY, fs.child))\n",
    "    for f in folders:\n",
    "        update_size(f)\n",
    "    fs.size = reduce(lambda sum, f: sum + f.size, fs.child, 0)\n"
   ]
  },
  {
   "cell_type": "code",
   "execution_count": null,
   "metadata": {},
   "outputs": [],
   "source": [
    "update_size(fs)\n",
    "print(fs)\n"
   ]
  },
  {
   "cell_type": "code",
   "execution_count": null,
   "metadata": {},
   "outputs": [],
   "source": [
    "threshold = 100000\n",
    "\n",
    "\n",
    "def get_treshold_sum(node: Node, threshold: int) -> int:\n",
    "    totalsum = 0\n",
    "    for child in node.child:\n",
    "        if child.type is not FileType.DIRECTORY:\n",
    "            continue\n",
    "        if child.size <= threshold:\n",
    "            totalsum += child.size\n",
    "        totalsum += + get_treshold_sum(child, threshold)\n",
    "    return totalsum\n",
    "\n",
    "\n",
    "print(get_treshold_sum(fs, threshold))\n"
   ]
  },
  {
   "cell_type": "code",
   "execution_count": null,
   "metadata": {},
   "outputs": [],
   "source": [
    "total = 70000000\n",
    "update_size = 30000000\n",
    "\n",
    "freespace = total - fs.size\n",
    "needed = update_size - freespace"
   ]
  },
  {
   "cell_type": "code",
   "execution_count": null,
   "metadata": {},
   "outputs": [],
   "source": [
    "\n",
    "def find_small(root: Node) -> Node:\n",
    "    small = root\n",
    "    for child in root.child:\n",
    "        if child.type is not FileType.DIRECTORY:\n",
    "            continue\n",
    "        if child.size < needed:\n",
    "            continue\n",
    "        if not small or child.size >= needed:\n",
    "            sm = find_small(child)\n",
    "            if sm and sm.size < small.size:\n",
    "                small = sm\n",
    "    return None if small.size < needed else small\n",
    "print(find_small(fs).size)"
   ]
  }
 ],
 "metadata": {
  "kernelspec": {
   "display_name": "Python 3.9.2 ('venv')",
   "language": "python",
   "name": "python3"
  },
  "language_info": {
   "codemirror_mode": {
    "name": "ipython",
    "version": 3
   },
   "file_extension": ".py",
   "mimetype": "text/x-python",
   "name": "python",
   "nbconvert_exporter": "python",
   "pygments_lexer": "ipython3",
   "version": "3.9.2"
  },
  "vscode": {
   "interpreter": {
    "hash": "e4e69621809742230a1e704ec9b4dd61c1e50993952deca0112461f485063925"
   }
  }
 },
 "nbformat": 4,
 "nbformat_minor": 2
}
