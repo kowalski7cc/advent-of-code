{
 "cells": [
  {
   "cell_type": "code",
   "execution_count": null,
   "metadata": {},
   "outputs": [],
   "source": [
    "with open(\"input.txt\") as f:\n",
    "    raw = f.read().splitlines()"
   ]
  },
  {
   "cell_type": "markdown",
   "metadata": {},
   "source": [
    "- A = Rock\n",
    "- B = Paper\n",
    "- C = Scissors"
   ]
  },
  {
   "cell_type": "markdown",
   "metadata": {},
   "source": [
    "- X = Lose\n",
    "- Y = Draw\n",
    "- Z = Win"
   ]
  },
  {
   "cell_type": "code",
   "execution_count": null,
   "metadata": {},
   "outputs": [],
   "source": [
    "from typing import TypeVar\n",
    "\n",
    "Rock = TypeVar(\"Rock\")\n",
    "Paper = TypeVar(\"Paper\")\n",
    "Scissors = TypeVar(\"Scissors\")\n",
    "\n",
    "objs = {\"A\": Rock, \"B\": Paper, \"C\": Scissors}\n",
    "wins = {\"X\": False, \"Y\": None, \"Z\": True}"
   ]
  },
  {
   "cell_type": "code",
   "execution_count": null,
   "metadata": {},
   "outputs": [],
   "source": [
    "maches = [(objs[x], wins[y]) for x, y in [tuple(x.split(\" \")) for x in raw]]"
   ]
  },
  {
   "cell_type": "code",
   "execution_count": null,
   "metadata": {},
   "outputs": [],
   "source": [
    "maches"
   ]
  },
  {
   "cell_type": "code",
   "execution_count": null,
   "metadata": {},
   "outputs": [],
   "source": [
    "rules = {\n",
    "    (Paper, Paper): None,\n",
    "    (Paper, Scissors): True,\n",
    "    (Paper, Rock): False,\n",
    "    (Rock, Rock): None,\n",
    "    (Rock, Paper): True,\n",
    "    (Rock, Scissors): False,\n",
    "    (Scissors, Scissors): None,\n",
    "    (Scissors, Rock): True,\n",
    "    (Scissors, Paper): False,\n",
    "}"
   ]
  },
  {
   "cell_type": "code",
   "execution_count": null,
   "metadata": {},
   "outputs": [],
   "source": [
    "points_move = {\n",
    "    Rock: 1,\n",
    "    Paper: 2,\n",
    "    Scissors: 3\n",
    "}"
   ]
  },
  {
   "cell_type": "code",
   "execution_count": null,
   "metadata": {},
   "outputs": [],
   "source": [
    "points_outcome = {\n",
    "    True: 6,\n",
    "    None: 3,\n",
    "    False: 0\n",
    "}"
   ]
  },
  {
   "cell_type": "code",
   "execution_count": null,
   "metadata": {},
   "outputs": [],
   "source": [
    "score = 0\n",
    "for opponent, outcome in maches:\n",
    "    for rule, result in rules.items():\n",
    "        a, b = rule\n",
    "        if a == opponent and outcome == result:\n",
    "            score += points_outcome[outcome] + points_move[b]\n",
    "            continue"
   ]
  },
  {
   "cell_type": "code",
   "execution_count": null,
   "metadata": {},
   "outputs": [],
   "source": [
    "print(f\"The score is: {score}\")"
   ]
  }
 ],
 "metadata": {
  "kernelspec": {
   "display_name": "Python 3.9.2 ('venv')",
   "language": "python",
   "name": "python3"
  },
  "language_info": {
   "codemirror_mode": {
    "name": "ipython",
    "version": 3
   },
   "file_extension": ".py",
   "mimetype": "text/x-python",
   "name": "python",
   "nbconvert_exporter": "python",
   "pygments_lexer": "ipython3",
   "version": "3.9.2"
  },
  "vscode": {
   "interpreter": {
    "hash": "e4e69621809742230a1e704ec9b4dd61c1e50993952deca0112461f485063925"
   }
  }
 },
 "nbformat": 4,
 "nbformat_minor": 2
}
