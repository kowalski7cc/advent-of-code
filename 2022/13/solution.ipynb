{
 "cells": [
  {
   "cell_type": "code",
   "execution_count": null,
   "id": "8eeca6da",
   "metadata": {},
   "outputs": [],
   "source": [
    "with open(\"sample-1.txt\") as f:\n",
    "\traw = f.read().splitlines()"
   ]
  },
  {
   "cell_type": "code",
   "execution_count": null,
   "id": "a58b8b54",
   "metadata": {},
   "outputs": [],
   "source": [
    "# remove empty lines from raw\n",
    "raw = [line for line in raw if line]\n",
    "# print(raw)\n",
    "from ast import literal_eval\n",
    "\n",
    "# literal_eval and group every two lines from raw\n",
    "data = [list(map(literal_eval, \\\\)) for n in range(0, len(raw), 2)]\n",
    "for i in data:\n",
    "    print(i)\n"
   ]
  }
 ],
 "metadata": {
  "kernelspec": {
   "display_name": ".venv",
   "language": "python",
   "name": "python3"
  },
  "language_info": {
   "codemirror_mode": {
    "name": "ipython",
    "version": 3
   },
   "file_extension": ".py",
   "mimetype": "text/x-python",
   "name": "python",
   "nbconvert_exporter": "python",
   "pygments_lexer": "ipython3",
   "version": "3.9.2 (default, Feb 28 2021, 17:03:44) \n[GCC 10.2.1 20210110]"
  },
  "vscode": {
   "interpreter": {
    "hash": "a5bffa46d10590097fc73735e3b0b0657e564857ca0efb29895753a4391e94ee"
   }
  }
 },
 "nbformat": 4,
 "nbformat_minor": 5
}
