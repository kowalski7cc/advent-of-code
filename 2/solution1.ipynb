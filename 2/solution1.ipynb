{
 "cells": [
  {
   "cell_type": "code",
   "execution_count": null,
   "metadata": {},
   "outputs": [],
   "source": [
    "with open(\"input.txt\") as f:\n",
    "    raw = f.read().splitlines()"
   ]
  },
  {
   "cell_type": "markdown",
   "metadata": {},
   "source": [
    "A = X = Rock\n",
    "\n",
    "B = Y = Paper\n",
    "\n",
    "C = Z = Scissors\n"
   ]
  },
  {
   "cell_type": "code",
   "execution_count": null,
   "metadata": {},
   "outputs": [],
   "source": [
    "from typing import TypeVar\n",
    "\n",
    "Rock = TypeVar(\"Rock\")\n",
    "Paper = TypeVar(\"Paper\")\n",
    "Scissors = TypeVar(\"Scissors\")\n",
    "\n",
    "objs = {\"A\": Rock, \"X\": Rock, \"B\": Paper, \"Y\": Paper, \"C\": Scissors, \"Z\": Scissors}"
   ]
  },
  {
   "cell_type": "code",
   "execution_count": null,
   "metadata": {},
   "outputs": [],
   "source": [
    "maches = [(objs[x], objs[y]) for x, y in [tuple(x.split(\" \")) for x in raw]]"
   ]
  },
  {
   "cell_type": "code",
   "execution_count": null,
   "metadata": {},
   "outputs": [],
   "source": [
    "rules = {\n",
    "    (Paper, Paper): 3,\n",
    "    (Paper, Scissors): 6,\n",
    "    (Paper, Rock): 0,\n",
    "    (Rock, Rock): 3,\n",
    "    (Rock, Paper): 6,\n",
    "    (Rock, Scissors): 0,\n",
    "    (Scissors, Scissors): 3,\n",
    "    (Scissors, Rock): 6,\n",
    "    (Scissors, Paper): 0,\n",
    "}"
   ]
  },
  {
   "cell_type": "code",
   "execution_count": null,
   "metadata": {},
   "outputs": [],
   "source": [
    "points = {\n",
    "    Rock: 1,\n",
    "    Paper: 2,\n",
    "    Scissors: 3\n",
    "}"
   ]
  },
  {
   "cell_type": "code",
   "execution_count": null,
   "metadata": {},
   "outputs": [],
   "source": [
    "score = 0\n",
    "for match in maches:\n",
    "    score += rules[match] + points[match[1]]"
   ]
  },
  {
   "cell_type": "code",
   "execution_count": null,
   "metadata": {},
   "outputs": [],
   "source": [
    "print(f\"The score is: {score}\")"
   ]
  }
 ],
 "metadata": {
  "kernelspec": {
   "display_name": "Python 3.9.2 ('venv')",
   "language": "python",
   "name": "python3"
  },
  "language_info": {
   "codemirror_mode": {
    "name": "ipython",
    "version": 3
   },
   "file_extension": ".py",
   "mimetype": "text/x-python",
   "name": "python",
   "nbconvert_exporter": "python",
   "pygments_lexer": "ipython3",
   "version": "3.9.2"
  },
  "vscode": {
   "interpreter": {
    "hash": "e4e69621809742230a1e704ec9b4dd61c1e50993952deca0112461f485063925"
   }
  }
 },
 "nbformat": 4,
 "nbformat_minor": 2
}
