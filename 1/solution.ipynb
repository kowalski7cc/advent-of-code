{
 "cells": [
  {
   "cell_type": "code",
   "execution_count": null,
   "metadata": {},
   "outputs": [],
   "source": [
    "with open(\"input.txt\") as f:\n",
    "    input_data_raw = f.read().splitlines()"
   ]
  },
  {
   "cell_type": "code",
   "execution_count": null,
   "metadata": {},
   "outputs": [],
   "source": [
    "elves_groups = [[]]\n",
    "for line in input_data_raw:\n",
    "    if not line:\n",
    "        elves_groups.append([])\n",
    "    else:\n",
    "        elves_groups[len(elves_groups) - 1].append(line)"
   ]
  },
  {
   "cell_type": "code",
   "execution_count": null,
   "metadata": {},
   "outputs": [],
   "source": [
    "from functools import reduce\n",
    "\n",
    "elves = sorted(\n",
    "    [\n",
    "        (i, v)\n",
    "        for i, v in enumerate(\n",
    "            [reduce(lambda x, y: x + int(y), elf, 0) for elf in elves_groups]\n",
    "        )\n",
    "    ],\n",
    "    key=lambda x: x[1],\n",
    "    reverse=True,\n",
    ")"
   ]
  },
  {
   "cell_type": "code",
   "execution_count": null,
   "metadata": {},
   "outputs": [],
   "source": [
    "print(f\"The most caloric elf is {elves[0][0]} and carries {elves[0][1]}\")"
   ]
  },
  {
   "cell_type": "code",
   "execution_count": null,
   "metadata": {},
   "outputs": [],
   "source": [
    "print(f\"Somma top: {reduce(lambda x, y: x + y[1], elves[:3], 0)}\")"
   ]
  }
 ],
 "metadata": {
  "kernelspec": {
   "display_name": "Python 3.9.2 ('venv')",
   "language": "python",
   "name": "python3"
  },
  "language_info": {
   "codemirror_mode": {
    "name": "ipython",
    "version": 3
   },
   "file_extension": ".py",
   "mimetype": "text/x-python",
   "name": "python",
   "nbconvert_exporter": "python",
   "pygments_lexer": "ipython3",
   "version": "3.9.2"
  },
  "vscode": {
   "interpreter": {
    "hash": "e4e69621809742230a1e704ec9b4dd61c1e50993952deca0112461f485063925"
   }
  }
 },
 "nbformat": 4,
 "nbformat_minor": 2
}
