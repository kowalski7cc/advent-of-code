{
 "cells": [
  {
   "cell_type": "code",
   "execution_count": null,
   "metadata": {},
   "outputs": [],
   "source": [
    "with open(\"input.txt\") as f:\n",
    "    raw = f.read().splitlines()"
   ]
  },
  {
   "cell_type": "code",
   "execution_count": null,
   "metadata": {},
   "outputs": [],
   "source": [
    "import re\n",
    "stacks: dict[int, list] = {}\n",
    "instructions: list[tuple[int]] = []\n",
    "regex = re.compile(r\"move (\\d+) from (\\d+) to (\\d+)\")\n",
    "\n",
    "\n",
    "parse = 0\n",
    "for l in raw:\n",
    "    if not l.strip():\n",
    "        parse+=1\n",
    "        continue\n",
    "    if not parse:\n",
    "        items = (len(l)+1)//4\n",
    "        for i in range(items):\n",
    "            stacks.setdefault(i+1, []).append(l[i*4+1])\n",
    "    else:\n",
    "        instructions.append(tuple(int(e) for e in regex.match(l).groups()))\n",
    "\n",
    "for i in stacks.values():\n",
    "    i.pop()\n",
    "    i.reverse()\n",
    "    while i[-1] == \" \":\n",
    "        i.pop()\n",
    "        \n",
    "print(stacks)"
   ]
  },
  {
   "cell_type": "code",
   "execution_count": null,
   "metadata": {},
   "outputs": [],
   "source": [
    "for inst in instructions:\n",
    "    buffer = []\n",
    "    for _ in range(inst[0]):\n",
    "        buffer.append(stacks[inst[1]].pop())\n",
    "        \n",
    "    for e in buffer:\n",
    "        stacks[inst[2]].append(e)"
   ]
  },
  {
   "cell_type": "code",
   "execution_count": null,
   "metadata": {},
   "outputs": [],
   "source": [
    "tops = \"\"\n",
    "for v in stacks.values():\n",
    "    tops +=v[-1]\n",
    "print(tops)"
   ]
  }
 ],
 "metadata": {
  "kernelspec": {
   "display_name": "Python 3.9.2 ('venv')",
   "language": "python",
   "name": "python3"
  },
  "language_info": {
   "codemirror_mode": {
    "name": "ipython",
    "version": 3
   },
   "file_extension": ".py",
   "mimetype": "text/x-python",
   "name": "python",
   "nbconvert_exporter": "python",
   "pygments_lexer": "ipython3",
   "version": "3.9.2"
  },
  "vscode": {
   "interpreter": {
    "hash": "e4e69621809742230a1e704ec9b4dd61c1e50993952deca0112461f485063925"
   }
  }
 },
 "nbformat": 4,
 "nbformat_minor": 2
}
