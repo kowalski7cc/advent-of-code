{
 "cells": [
  {
   "cell_type": "code",
   "execution_count": null,
   "metadata": {},
   "outputs": [],
   "source": [
    "with open(\"input.txt\") as f:\n",
    "    data = f.read()"
   ]
  },
  {
   "cell_type": "code",
   "execution_count": null,
   "metadata": {},
   "outputs": [],
   "source": [
    "def count_for_dinstinct(data: list[str], dinstinct: int) -> int:\n",
    "    marker = 0\n",
    "    for i in range(len(data)-dinstinct+1):\n",
    "        r = data[i:i+dinstinct]\n",
    "        f = 0\n",
    "        for l in r:\n",
    "            if r.count(l) == 1:\n",
    "                f += 1\n",
    "        if f == dinstinct:\n",
    "            marker = i\n",
    "            break\n",
    "                \n",
    "    return marker+dinstinct\n"
   ]
  },
  {
   "cell_type": "code",
   "execution_count": null,
   "metadata": {},
   "outputs": [],
   "source": [
    "print(f\"Part 1: {count_for_dinstinct(data, 4)}\")"
   ]
  },
  {
   "cell_type": "code",
   "execution_count": null,
   "metadata": {},
   "outputs": [],
   "source": [
    "print(f\"Part 2: {count_for_dinstinct(data, 14)}\")\n"
   ]
  }
 ],
 "metadata": {
  "kernelspec": {
   "display_name": "Python 3.9.2 ('venv')",
   "language": "python",
   "name": "python3"
  },
  "language_info": {
   "codemirror_mode": {
    "name": "ipython",
    "version": 3
   },
   "file_extension": ".py",
   "mimetype": "text/x-python",
   "name": "python",
   "nbconvert_exporter": "python",
   "pygments_lexer": "ipython3",
   "version": "3.9.2"
  },
  "vscode": {
   "interpreter": {
    "hash": "e4e69621809742230a1e704ec9b4dd61c1e50993952deca0112461f485063925"
   }
  }
 },
 "nbformat": 4,
 "nbformat_minor": 2
}
