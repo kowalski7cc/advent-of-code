{
 "cells": [
  {
   "cell_type": "code",
   "execution_count": null,
   "metadata": {},
   "outputs": [],
   "source": [
    "with open(\"input.txt\") as f:\n",
    "    forest = [[int(i) for i in list(s)] for s in f.read().splitlines()]"
   ]
  },
  {
   "cell_type": "code",
   "execution_count": null,
   "metadata": {},
   "outputs": [],
   "source": [
    "def is_visible(trees: list[list[int]], x: int, y: int) -> bool:\n",
    "    if y > len(trees) - 1:\n",
    "        raise IndexError()\n",
    "    if x > len(trees[y]) - 1:\n",
    "        raise IndexError()\n",
    "    h = trees[y][x]\n",
    "    a, b, c, d = True, True, True, True\n",
    "    for iy in range(len(trees)):\n",
    "        if iy == y:\n",
    "            continue\n",
    "        ih = trees[iy][x]\n",
    "        if ih >= h:\n",
    "            if iy < y:\n",
    "                a = False\n",
    "            elif iy > y:\n",
    "                b = False\n",
    "    for ix in range(len(trees[iy])):\n",
    "        if ix == x:\n",
    "            continue\n",
    "        ih = trees[y][ix]\n",
    "        if ih >= h:\n",
    "            if ix < x:\n",
    "                c = False\n",
    "            elif ix > x:\n",
    "                d = False\n",
    "    return a or b or c or d\n"
   ]
  },
  {
   "cell_type": "code",
   "execution_count": null,
   "metadata": {},
   "outputs": [],
   "source": [
    "visible = 0\n",
    "for y, _ in enumerate(forest):\n",
    "    for x, _ in enumerate(forest[y]):\n",
    "        if is_visible(forest, x, y):\n",
    "            visible += 1\n",
    "print(visible)"
   ]
  },
  {
   "cell_type": "code",
   "execution_count": null,
   "metadata": {},
   "outputs": [],
   "source": [
    "def get_scenic_score(trees: list[list[int]], x: int, y: int) -> int:\n",
    "    if y > len(trees) - 1:\n",
    "        raise IndexError()\n",
    "    if x > len(trees[y]) - 1:\n",
    "        raise IndexError()\n",
    "    a, b, c, d = 0, 0, 0, 0\n",
    "    h = trees[y][x]\n",
    "    for iy in reversed(range(y)):\n",
    "        ih = trees[iy][x]\n",
    "        a += 1\n",
    "        if ih >= h:\n",
    "            break\n",
    "    for iy in range(y+1, len(trees)):\n",
    "        ih = trees[iy][x]\n",
    "        b += 1\n",
    "        if ih >= h:\n",
    "            break\n",
    "    for ix in reversed(range(x)):\n",
    "        ih = trees[y][ix]\n",
    "        c += 1\n",
    "        if ih >= h:\n",
    "            break\n",
    "    for ix in range(x+1, len(trees[y])):\n",
    "        ih = trees[y][ix]\n",
    "        d += 1\n",
    "        if ih >= h:\n",
    "            break\n",
    "    return a * b * c * d"
   ]
  },
  {
   "cell_type": "code",
   "execution_count": null,
   "metadata": {},
   "outputs": [],
   "source": [
    "hs = 0\n",
    "for y in range(len(forest)):\n",
    "    for x in range(len(forest[y])):\n",
    "        ss = get_scenic_score(forest, x, y)\n",
    "        if hs < ss:\n",
    "            hs = ss\n",
    "print(hs)"
   ]
  }
 ],
 "metadata": {
  "kernelspec": {
   "display_name": ".venv",
   "language": "python",
   "name": "python3"
  },
  "language_info": {
   "codemirror_mode": {
    "name": "ipython",
    "version": 3
   },
   "file_extension": ".py",
   "mimetype": "text/x-python",
   "name": "python",
   "nbconvert_exporter": "python",
   "pygments_lexer": "ipython3",
   "version": "3.9.2"
  },
  "vscode": {
   "interpreter": {
    "hash": "a5bffa46d10590097fc73735e3b0b0657e564857ca0efb29895753a4391e94ee"
   }
  }
 },
 "nbformat": 4,
 "nbformat_minor": 2
}
