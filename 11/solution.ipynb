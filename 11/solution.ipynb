{
 "cells": [
  {
   "cell_type": "code",
   "execution_count": null,
   "metadata": {},
   "outputs": [],
   "source": [
    "with open(\"input.txt\") as f:\n",
    "    raw = f.read().splitlines()"
   ]
  },
  {
   "cell_type": "code",
   "execution_count": null,
   "metadata": {},
   "outputs": [],
   "source": [
    "from dataclasses import dataclass, field\n",
    "from typing import Any, Callable, Optional\n",
    "\n",
    "\n",
    "@dataclass\n",
    "class Monkey:\n",
    "    starting: list[int] = field(default_factory=list)\n",
    "    operation: Callable[[int], int] = lambda _: _\n",
    "    test: Callable[[int], int] = lambda _:_\n",
    "    if_true: int = -1\n",
    "    if_false: int = -1\n",
    "    inspects: int = 0"
   ]
  },
  {
   "cell_type": "code",
   "execution_count": null,
   "metadata": {},
   "outputs": [],
   "source": [
    "monkey_regex = [\n",
    "    \"Monkey (\\\\d+):\",\n",
    "    \"(\\\\d+)\",\n",
    "    \"Operation: (.+)\",\n",
    "    \"Test: (.+)\",\n",
    "    \"If true: throw to monkey (\\\\d+)\",\n",
    "    \"If false: throw to monkey (\\\\d+)\"\n",
    "]\n"
   ]
  },
  {
   "cell_type": "code",
   "execution_count": null,
   "metadata": {},
   "outputs": [],
   "source": [
    "import math\n",
    "import re\n",
    "\n",
    "\n",
    "monkeys: dict[int, Monkey] = {}\n",
    "\n",
    "monkey = 0\n",
    "line_parsed = 0\n",
    "rounds = 0\n",
    "\n",
    "def operation_to_lambda(string: str):\n",
    "    op = string.split(\" \")\n",
    "    print(op[3], op[4])\n",
    "    if op[3] == \"*\":\n",
    "        if op[4] == \"old\":\n",
    "            return lambda x: x ** 2\n",
    "        return lambda x: x * int(op[4])\n",
    "    if op[3] == \"/\":\n",
    "        return lambda x: x // int(op[4])\n",
    "    if op[3] == \"+\":\n",
    "        return lambda x: x + int(op[4])\n",
    "    if op[3] == \"-\":\n",
    "        return lambda x: x - int(op[4])\n",
    "    raise ArithmeticError()\n",
    "\n",
    "def test_to_lambda(string: str):\n",
    "    op = string.split(\" \")\n",
    "    return lambda x: not bool(x % int(op[2]))\n",
    "\n",
    "for line in raw:\n",
    "    if not line:\n",
    "        line_parsed = 0\n",
    "    else:\n",
    "        rg = monkey_regex[line_parsed]\n",
    "        if line_parsed == 0:\n",
    "            monkey = int(re.compile(rg).findall(line)[0])\n",
    "            monkeys[monkey] = Monkey()\n",
    "        elif line_parsed == 1:\n",
    "            for i in re.compile(rg).findall(line):\n",
    "                monkeys[monkey].starting.append(int(i))\n",
    "        elif line_parsed == 2:\n",
    "            monkeys[monkey].operation = operation_to_lambda(re.compile(rg).findall(line)[0])\n",
    "        elif line_parsed == 3:\n",
    "            monkeys[monkey].test = test_to_lambda(re.compile(rg).findall(line)[0])\n",
    "        elif line_parsed == 4:\n",
    "            monkeys[monkey].if_true = int(re.compile(rg).findall(line)[0])\n",
    "        elif line_parsed == 5:\n",
    "            monkeys[monkey].if_false = int(re.compile(rg).findall(line)[0])\n",
    "        line_parsed += 1\n",
    "\n",
    "print(monkeys)"
   ]
  },
  {
   "cell_type": "code",
   "execution_count": null,
   "metadata": {},
   "outputs": [],
   "source": [
    "r = 20\n",
    "def do_round(times: int):\n",
    "    for _ in range(times):\n",
    "        for index, monkey in monkeys.items():\n",
    "            while monkey.starting:\n",
    "                item = monkey.starting.pop(0)\n",
    "                monkey.inspects += 1\n",
    "                item = monkey.operation(item)\n",
    "                item = item//3\n",
    "                if monkey.test(item):\n",
    "                    monkeys[monkey.if_true].starting.append(item)\n",
    "                else:\n",
    "                    monkeys[monkey.if_false].starting.append(item)\n",
    "rounds += r\n",
    "do_round(r)\n",
    "print({rounds: {i: (m.inspects, m.starting) for i, m in monkeys.items()}})\n",
    "m = sorted(monkeys.values(), key=lambda x: x.inspects, reverse=True)\n",
    "print(list((m.inspects, m.starting) for m in m))\n",
    "print(f\"Business: {m[0].inspects*m[1].inspects}\")"
   ]
  },
  {
   "cell_type": "code",
   "execution_count": null,
   "metadata": {},
   "outputs": [],
   "source": [
    "r = 10000 - rounds\n",
    "def do_round(times: int):\n",
    "    for i in range(times):\n",
    "        print(f\"Iteration {i}\")\n",
    "        for index, monkey in monkeys.items():\n",
    "            while monkey.starting:\n",
    "                item = monkey.starting.pop(0)\n",
    "                monkey.inspects += 1\n",
    "                item = monkey.operation(item)\n",
    "                if monkey.test(item):\n",
    "                    monkeys[monkey.if_true].starting.append(item)\n",
    "                else:\n",
    "                    monkeys[monkey.if_false].starting.append(item)\n",
    "rounds += r\n",
    "do_round(r)\n",
    "print({rounds: {i: (m.inspects, m.starting) for i, m in monkeys.items()}})\n",
    "m = sorted(monkeys.values(), key=lambda x: x.inspects, reverse=True)\n",
    "print(list((m.inspects, m.starting) for m in m))\n",
    "print(f\"Business: {m[0].inspects*m[1].inspects}\")"
   ]
  }
 ],
 "metadata": {
  "kernelspec": {
   "display_name": ".venv",
   "language": "python",
   "name": "python3"
  },
  "language_info": {
   "codemirror_mode": {
    "name": "ipython",
    "version": 3
   },
   "file_extension": ".py",
   "mimetype": "text/x-python",
   "name": "python",
   "nbconvert_exporter": "python",
   "pygments_lexer": "ipython3",
   "version": "3.9.2 (default, Feb 28 2021, 17:03:44) \n[GCC 10.2.1 20210110]"
  },
  "vscode": {
   "interpreter": {
    "hash": "a5bffa46d10590097fc73735e3b0b0657e564857ca0efb29895753a4391e94ee"
   }
  }
 },
 "nbformat": 4,
 "nbformat_minor": 2
}
