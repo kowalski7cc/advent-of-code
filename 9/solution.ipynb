{
 "cells": [
  {
   "cell_type": "code",
   "execution_count": null,
   "metadata": {},
   "outputs": [],
   "source": [
    "import logging\n",
    "\n",
    "logging.basicConfig(level=logging.INFO)\n",
    "log = logging.getLogger(__name__)"
   ]
  },
  {
   "cell_type": "code",
   "execution_count": null,
   "metadata": {},
   "outputs": [],
   "source": [
    "with open(\"input.txt\") as f:\n",
    "    movements: list[tuple[str, int]] = [\n",
    "        (lambda y: (y[0], int(y[1])))(x.split(\" \")) for x in f.read().splitlines()\n",
    "    ]"
   ]
  },
  {
   "cell_type": "code",
   "execution_count": null,
   "metadata": {},
   "outputs": [],
   "source": [
    "from typing import TypeVar\n",
    "\n",
    "point = tuple[int, int]"
   ]
  },
  {
   "cell_type": "code",
   "execution_count": null,
   "metadata": {},
   "outputs": [],
   "source": [
    "def distance(a: point, b: point) -> int:\n",
    "    from math import sqrt\n",
    "\n",
    "    return int(sqrt((a[0] - b[0]) ** 2 + (a[1] - b[1]) ** 2))\n",
    "\n",
    "\n",
    "assert distance((0, 0), (0, 1)) == 1  # touchy\n",
    "assert distance((0, 0), (0, 2)) == 2  # no touchy\n",
    "assert distance((0, 0), (1, 1)) == 1  # touchy\n",
    "assert distance((0, 2), (1, 4)) == 2  # no touchy"
   ]
  },
  {
   "cell_type": "code",
   "execution_count": null,
   "metadata": {},
   "outputs": [],
   "source": [
    "class Rope:\n",
    "\n",
    "    start: point\n",
    "    knots: list[point]\n",
    "    visited: set[point]\n",
    "\n",
    "    def __init__(self, start: point, lenght: int = 2) -> None:\n",
    "        self.start = start\n",
    "        self.knots = [start] * lenght\n",
    "        self.visited = {start}\n",
    "\n",
    "    @staticmethod\n",
    "    def move_head(head: point, direction: str) -> point:\n",
    "        return {\n",
    "            \"D\": lambda x, y: (x, y - 1),\n",
    "            \"U\": lambda x, y: (x, y + 1),\n",
    "            \"L\": lambda x, y: (x - 1, y),\n",
    "            \"R\": lambda x, y: (x + 1, y),\n",
    "        }[direction](*head)\n",
    "\n",
    "    def follow_head(self, head: point, tail: point) -> point:\n",
    "        hx, hy = head\n",
    "        tx, ty = tail\n",
    "        if distance(head, tail) < 2:\n",
    "            return tail\n",
    "        if hx == tx:\n",
    "            if hy < ty:\n",
    "                return (tx, ty - 1)  # move 1 d\n",
    "            if hy > ty:\n",
    "                return (tx, ty + 1)  # move 1 u\n",
    "        if hy == ty:\n",
    "            if hx < tx:\n",
    "                return (tx - 1, ty)  # move 1 l\n",
    "            if hx > tx:\n",
    "                return (tx + 1, ty)  # move 1 r\n",
    "        if hx < tx and hy < ty:\n",
    "            return (tx - 1, ty - 1)  # move 2 ld\n",
    "        if hx > tx and hy < ty:\n",
    "            return (tx + 1, ty - 1)  # move 2 rd\n",
    "        if hx < tx and hy > ty:\n",
    "            return (tx - 1, ty + 1)  # move 2 lu\n",
    "        if hx > tx and hy > ty:\n",
    "            return (tx + 1, ty + 1)  # move 2 ru\n",
    "        return tail\n",
    "\n",
    "    def move(self, direction: str, quantity: int = 1) -> None:\n",
    "        for _ in range(quantity):\n",
    "            for i, k in enumerate(self.knots):\n",
    "                if i == 0:\n",
    "                    self.knots[i] = self.move_head(k, direction)\n",
    "                else:\n",
    "                    self.knots[i] = self.follow_head(self.knots[i-1], self.knots[i])\n",
    "            self.visited.add(self.knots[-1])\n"
   ]
  },
  {
   "cell_type": "code",
   "execution_count": null,
   "metadata": {},
   "outputs": [],
   "source": [
    "rope = Rope((0,0), 2)\n",
    "\n",
    "for direction, quantity in movements:\n",
    "    rope.move(direction, quantity)\n",
    "\n",
    "print(len(rope.visited))\n",
    "for v in rope.visited:\n",
    "    print(v)"
   ]
  },
  {
   "cell_type": "code",
   "execution_count": null,
   "metadata": {},
   "outputs": [],
   "source": [
    "rope = Rope((0,0), 10)\n",
    "\n",
    "for direction, quantity in movements:\n",
    "    rope.move(direction, quantity)\n",
    "\n",
    "print(len(rope.visited))\n",
    "for v in rope.visited:\n",
    "    print(v)"
   ]
  }
 ],
 "metadata": {
  "kernelspec": {
   "display_name": ".venv",
   "language": "python",
   "name": "python3"
  },
  "language_info": {
   "codemirror_mode": {
    "name": "ipython",
    "version": 3
   },
   "file_extension": ".py",
   "mimetype": "text/x-python",
   "name": "python",
   "nbconvert_exporter": "python",
   "pygments_lexer": "ipython3",
   "version": "3.9.2"
  },
  "vscode": {
   "interpreter": {
    "hash": "a5bffa46d10590097fc73735e3b0b0657e564857ca0efb29895753a4391e94ee"
   }
  }
 },
 "nbformat": 4,
 "nbformat_minor": 2
}
