{
 "cells": [
  {
   "cell_type": "code",
   "execution_count": null,
   "metadata": {},
   "outputs": [],
   "source": [
    "with open(\"input.txt\") as f:\n",
    "    instructions = [x.split(\" \") for x in f.read().splitlines()]"
   ]
  },
  {
   "cell_type": "code",
   "execution_count": null,
   "metadata": {},
   "outputs": [],
   "source": [
    "time = 0\n",
    "inst = []\n",
    "x = 1\n",
    "for i in instructions:\n",
    "    if i[0] == \"noop\":\n",
    "        time += 1\n",
    "        inst.append((time, i, x, time*x, (time-1)%40 in [x-1, x, x+1]))\n",
    "    if i[0] == \"addx\":\n",
    "        time += 1\n",
    "        inst.append((time, i, x, time*x, (time-1)%40 in [x-1, x, x+1]))\n",
    "        time += 1\n",
    "        inst.append((time, i, x, time*x, (time-1)%40 in [x-1, x, x+1]))\n",
    "        x += int(i[1])\n",
    "for i in inst:\n",
    "    print(i)\n",
    "    \n",
    "summ = 0\n",
    "for i in inst:\n",
    "    if i[0] in [20, 60, 100, 140, 180, 220]:\n",
    "        summ += i[3]\n",
    "        \n",
    "print(summ)"
   ]
  },
  {
   "cell_type": "code",
   "execution_count": null,
   "metadata": {},
   "outputs": [],
   "source": [
    "for j,i in enumerate(inst):\n",
    "    if j%40 == 0:\n",
    "        print(\"\")\n",
    "    print(\"█\" if i[4] else \" \", end=\"\")"
   ]
  }
 ],
 "metadata": {
  "kernelspec": {
   "display_name": ".venv",
   "language": "python",
   "name": "python3"
  },
  "language_info": {
   "codemirror_mode": {
    "name": "ipython",
    "version": 3
   },
   "file_extension": ".py",
   "mimetype": "text/x-python",
   "name": "python",
   "nbconvert_exporter": "python",
   "pygments_lexer": "ipython3",
   "version": "3.9.2"
  },
  "vscode": {
   "interpreter": {
    "hash": "a5bffa46d10590097fc73735e3b0b0657e564857ca0efb29895753a4391e94ee"
   }
  }
 },
 "nbformat": 4,
 "nbformat_minor": 2
}
